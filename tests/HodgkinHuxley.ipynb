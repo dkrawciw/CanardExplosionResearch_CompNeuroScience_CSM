{
 "cells": [
  {
   "cell_type": "code",
   "execution_count": null,
   "metadata": {},
   "outputs": [],
   "source": [
    "import numpy as np\n",
    "import matplotlib.pyplot as plt\n",
    "from scipy.integrate import solve_ivp"
   ]
  },
  {
   "cell_type": "code",
   "execution_count": null,
   "metadata": {},
   "outputs": [],
   "source": [
    "def alpha_m(v):\n",
    "    if abs(v+54)>1.0e-8:\n",
    "        alpha_m = 0.32*(v+54)/(1-np.exp(-(v+54)/4))\n",
    "    else:\n",
    "        alpha_m=1\n",
    "    return alpha_m"
   ]
  },
  {
   "cell_type": "code",
   "execution_count": null,
   "metadata": {},
   "outputs": [],
   "source": [
    "def beta_m(v):\n",
    "    beta_m = 0.28*(v+27)/(np.exp((v+27)/5)-1)\n",
    "    return beta_m"
   ]
  },
  {
   "cell_type": "code",
   "execution_count": null,
   "metadata": {},
   "outputs": [],
   "source": [
    "def alpha_n(v):\n",
    "    if abs(v+52)>1.0e-8:\n",
    "        alpha_n = 0.032*(v+52)/(1-np.exp(-(v+52)/5))\n",
    "    else:\n",
    "        alpha_n=0.32\n",
    "    return alpha_n"
   ]
  },
  {
   "cell_type": "code",
   "execution_count": null,
   "metadata": {},
   "outputs": [],
   "source": [
    "def beta_n(v):\n",
    "    beta_n = 0.5*np.exp((v+57)/40)\n",
    "    return beta_n"
   ]
  },
  {
   "cell_type": "code",
   "execution_count": null,
   "metadata": {},
   "outputs": [],
   "source": [
    "def HodgkinHuxley_2D(t,y):\n",
    "    v = y[0]\n",
    "    n = y[1]\n",
    "\n",
    "    v_0=-70 # initial condition for v\n",
    "\n",
    "    m_inf = alpha_m(v_0)/(alpha_m(v_0)+beta_m(v_0))\n",
    "    n_inf = alpha_n(v_0)/(alpha_n(v_0)+beta_n(v_0))\n",
    "    tau_n = 1/(alpha_n(v_0)+beta_n(v_0))\n",
    "\n",
    "    c = 1\n",
    "    g_K = 80\n",
    "    g_Na = 100\n",
    "    g_L = 0.1\n",
    "    v_K = -100\n",
    "    v_Na = 50\n",
    "    v_L = -67\n",
    "    I_app = 1.5\n",
    "\n",
    "    dvdt = ( g_Na * m_inf(v)**3 * (0.83 - n) * (v_Na - v) + g_K * n**4*(v_K - v) + g_L * (v_L - v) + I_app ) / c\n",
    "    dndt = (n_inf(v) - n) / tau_n\n",
    "\n",
    "    return np.array([dvdt, dndt])"
   ]
  },
  {
   "cell_type": "code",
   "execution_count": null,
   "metadata": {},
   "outputs": [],
   "source": []
  }
 ],
 "metadata": {
  "language_info": {
   "name": "python"
  }
 },
 "nbformat": 4,
 "nbformat_minor": 2
}
