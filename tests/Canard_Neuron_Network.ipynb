{
 "cells": [
  {
   "cell_type": "code",
   "execution_count": 64,
   "id": "ed74422f",
   "metadata": {},
   "outputs": [],
   "source": [
    "import numpy as np\n",
    "import matplotlib.pyplot as plt\n",
    "from scipy.integrate import solve_ivp\n",
    "import seaborn as sns"
   ]
  },
  {
   "cell_type": "markdown",
   "id": "3c3cb165",
   "metadata": {},
   "source": [
    "# Networks of Neurons Creating Canard Explosions\n",
    "\n",
    "We had read [1] that networks of exitatory and inhibitory neurons can produce canard explosions surprisingly easily.\n",
    "\n",
    "The forementioned paper [1] discussed coupling only excitatory Three Dimensional Hodgkin-Huxley Neurons. The paper does not discuss finding this behavior with different types of neurons.\n",
    "\n",
    "We decided it would be interesting to explore what that meant in a system context and discuss our results."
   ]
  },
  {
   "cell_type": "code",
   "execution_count": 65,
   "id": "df5e097f",
   "metadata": {},
   "outputs": [],
   "source": [
    "def alpha_h(v):\n",
    "    return 0.07*np.exp(-(v+65)/20)\n",
    "def beta_h(v):\n",
    "    return 1 / ( 1 + np.exp(-(v+35)/10) )\n",
    "\n",
    "def alpha_m(v):\n",
    "    return (0.1 * (v + 40)) / (1 - np.exp(-(v+40)/10))\n",
    "def beta_m(v):\n",
    "    return 4*np.exp(-(v+40)/10)\n",
    "def m_inf(v):\n",
    "    return alpha_m(v) / (alpha_m(v) + alpha_m(v))\n",
    "\n",
    "def alpha(v):\n",
    "    alpha_0 = 2\n",
    "    V_shp = 5\n",
    "    return alpha_0 / ( 1 + np.exp(-v / V_shp) )\n",
    "\n",
    "def f_Vh(v, h, g_Na, g_K, g_L, V_Na, V_k, V_L, I_0):\n",
    "    n = 0.801 - 1.03*h\n",
    "    return I_0 - g_Na*h*(v - V_Na)*m_inf(v)**3 - g_K*(v - V_k)*n(h)**4 - g_L*(v - V_L)\n",
    "\n",
    "def HH_ThreeDim_Coupled(t, u, g_Na, g_K, g_L, g_syn, V_Na, V_k, V_L, V_syn, I_0, tau_syn):\n",
    "    v = u[0]\n",
    "    h = u[1]\n",
    "    s = u[2]\n",
    "\n",
    "    dVdt = f_Vh(v, h, g_Na, g_K, g_L, V_Na, V_k, V_L, I_0) - g_syn * s*(v - V_syn)\n",
    "    dhdt = alpha_h(v) * (1 - h) - beta_h(v)*h\n",
    "    dsdt = alpha(v) * (1 - s) - s/tau_syn\n",
    "\n",
    "    return [dVdt, dhdt, dsdt]"
   ]
  },
  {
   "cell_type": "code",
   "execution_count": 66,
   "id": "5bfa233a",
   "metadata": {},
   "outputs": [],
   "source": [
    "# Parameters\n",
    "C = 1.0\n",
    "phi = 1.0\n",
    "alpha0 = 2.0\n",
    "Vshp = 5.0\n",
    "\n",
    "# Functions\n",
    "def m_inf(V):\n",
    "    return (0.1 * phi * (V + 40)) / (1 - np.exp(-(V + 40) / 10)) / \\\n",
    "           ((0.1 * phi * (V + 40)) / (1 - np.exp(-(V + 40) / 10)) + 4 * phi * np.exp(-(V + 65) / 18))\n",
    "\n",
    "def h_inf(V):\n",
    "    return 1 / (1 + np.exp(-(V + 35) / 10))\n",
    "\n",
    "def tau_h(V):\n",
    "    return 1 / (0.07 * phi * np.exp(-(V + 65) / 20) + phi / (1 + np.exp(-(V + 35) / 10)))\n",
    "\n",
    "def alpha(V):\n",
    "    return alpha0 / (1 + np.exp(-V / Vshp))\n",
    "\n",
    "def n_func(h):\n",
    "    return np.maximum(0.87 - h, 0)\n",
    "\n",
    "def reduced_HH(t, y, gNa = 120.0, gK = 36.0, gL = 0.3, VNa = 50.0, VK = -77.0, VL = -54.4, I0 = 13.0, gsyn = 1.0, Vsyn = 0.0, tausyn = 20.0):\n",
    "    V, h, s = y\n",
    "    m = m_inf(V)\n",
    "    n = n_func(h)\n",
    "    dVdt = (-gL*(V - VL) - gK*(n**4)*(V - VK) - gNa*(m**3)*h*(V - VNa)\n",
    "            + I0 - gsyn*s*(V - Vsyn)) / C\n",
    "    dhdt = (h_inf(V) - h) / tau_h(V)\n",
    "    dsdt = alpha(V)*(1 - s) - s / tausyn\n",
    "    return [dVdt, dhdt, dsdt]"
   ]
  },
  {
   "cell_type": "code",
   "execution_count": 67,
   "id": "6f86f09d",
   "metadata": {},
   "outputs": [],
   "source": [
    "# Initial conditions\n",
    "V0 = -65.0\n",
    "h0 = h_inf(V0)\n",
    "s0 = 0.0\n",
    "y0 = [V0, h0, s0]\n",
    "\n",
    "t_span = (0, 300) # ms\n",
    "t_eval = np.linspace(t_span[0], t_span[1], 1000)\n",
    "\n",
    "sol = solve_ivp(reduced_HH, t_span, y0, method='RK45', rtol=1e-8, atol=1e-6)"
   ]
  },
  {
   "cell_type": "code",
   "execution_count": 68,
   "id": "4d16db8e",
   "metadata": {},
   "outputs": [
    {
     "data": {
      "image/png": "[encoded data removed]",
      "text/plain": [
       "<Figure size 640x480 with 1 Axes>"
      ]
     },
     "metadata": {},
     "output_type": "display_data"
    }
   ],
   "source": [
    "plt.plot(sol.t, sol.y[0], label='Membrane Voltage V(t)')\n",
    "plt.show()"
   ]
  },
  {
   "cell_type": "markdown",
   "id": "57d678ad",
   "metadata": {},
   "source": [
    "## References\n",
    "\n",
    "[1] J. Drover, J. Rubin, J. Su, and B. Ermentrout, Analysis of a canard mechanism by which \n",
    "excitatory synaptic coupling can synchronize neurons at low ﬁring frequencies, SIAM J. Appl. Math, 65 (2004), pp. 69–92."
   ]
  },
  {
   "cell_type": "markdown",
   "id": "534b9c89",
   "metadata": {},
   "source": []
  }
 ],
 "metadata": {
  "kernelspec": {
   "display_name": ".venv",
   "language": "python",
   "name": "python3"
  },
  "language_info": {
   "codemirror_mode": {
    "name": "ipython",
    "version": 3
   },
   "file_extension": ".py",
   "mimetype": "text/x-python",
   "name": "python",
   "nbconvert_exporter": "python",
   "pygments_lexer": "ipython3",
   "version": "3.13.2"
  }
 },
 "nbformat": 4,
 "nbformat_minor": 5
}
